{
 "cells": [
  {
   "cell_type": "markdown",
   "metadata": {},
   "source": [
    "![](http://research.ncsu.edu/dsi/files/2014/10/data-science2.jpg)"
   ]
  },
  {
   "cell_type": "markdown",
   "metadata": {},
   "source": [
    "# Data Science Welcome"
   ]
  },
  {
   "cell_type": "markdown",
   "metadata": {},
   "source": [
    "## Course Structure"
   ]
  },
  {
   "cell_type": "markdown",
   "metadata": {},
   "source": [
    "### Course Objectives"
   ]
  },
  {
   "cell_type": "markdown",
   "metadata": {},
   "source": [
    "* Perform exploratory data analysis with powerful programmatic tools, python and command line.\n",
    "* Build and refine machine learning models to predict patterns from data sets.\n",
    "* Learn the language of data scientist to contribute as part of a data scientist team.\n",
    "* Communicate data driven insights to a non-technical audience.\n",
    "\n",
    "**Lots and lots of practice!**"
   ]
  },
  {
   "cell_type": "markdown",
   "metadata": {},
   "source": [
    "### Course Schedule"
   ]
  },
  {
   "cell_type": "markdown",
   "metadata": {},
   "source": [
    "```bash\n",
    "------------ INTRODUCTION ------------\n",
    "\n",
    "01 - Data Science Toolkit\n",
    "02 - Linear Algebra\n",
    "03 - Machine Learning\n",
    "04 - Exploratory Data Analysis\n",
    "\n",
    "------------ ESTIMATION ------------\n",
    "\n",
    "05 - Linear Regression\n",
    "06 - Polynomial Regression\n",
    "07 - Data Wrangling \n",
    "08 - Introduction to R\n",
    "09 - Group Project Presentations\n",
    "\n",
    "------------ MACHINE LEARNING ------------\n",
    "\n",
    "10 - Logistic Regression\n",
    "11 - kNN \n",
    "12 - Decision Trees\n",
    "13 - Random Forests\n",
    "14 - GUEST LECTURE : Network Analysis\n",
    "\n",
    "------------ REAL WORLD APPLICATIONS ------------\n",
    "\n",
    "15 - Feature Engineering I (PCA)\n",
    "   - Elevator Pitch Presentations\n",
    "16 - Feature Engineering II (Clustering)\n",
    "17 - Kaggle I (EDA)\n",
    "18 - Kaggle II (Feature Engineering)\n",
    "\n",
    "------------ FINAL PROJECTS ------------\n",
    "\n",
    "19 - Project Labs \n",
    "20 - Project Labs \n",
    "21 - Final Presentations\n",
    "22 - Final Presentations\n",
    "```"
   ]
  },
  {
   "cell_type": "markdown",
   "metadata": {},
   "source": [
    "### Lesson Materials"
   ]
  },
  {
   "cell_type": "markdown",
   "metadata": {},
   "source": [
    "Distributed as **Jupyter Notebooks**\n",
    "\n",
    "Generally lesson materials will follow these guidelines:\n",
    "* Cover theory in the first half\n",
    "* Code demos which implement the theory\n",
    "* Assigned Homework excercises to check understanding \n",
    "* List materials and references for further reading"
   ]
  },
  {
   "cell_type": "markdown",
   "metadata": {},
   "source": [
    "Materials are available from [GitHub](https://github.com/ga-students/DS_HK_7/archive/gh-pages.zip)"
   ]
  },
  {
   "cell_type": "markdown",
   "metadata": {},
   "source": [
    "## Projects"
   ]
  },
  {
   "cell_type": "markdown",
   "metadata": {},
   "source": [
    "### Exploratory Data Analysis Project"
   ]
  },
  {
   "cell_type": "markdown",
   "metadata": {},
   "source": [
    "**Deliverable**: Jupyter Notebook, _due week 3_.\n",
    "\n",
    "* Provide a visual account of the dataset's peculiarities. \n",
    "* 4 Topics are provided with datasets - but check with us if you have a dataset you wish to use for this project.\n",
    "* Individual Assignment"
   ]
  },
  {
   "cell_type": "markdown",
   "metadata": {},
   "source": [
    "### Estimation Project"
   ]
  },
  {
   "cell_type": "markdown",
   "metadata": {},
   "source": [
    "**Deliverable**: Presentation to class, _due week 5_.\n",
    "\n",
    "* Estimation problem (regression)\n",
    "* 4 Topics are provided with datasets - but check with us if you have a dataset you wish to use for this project.\n",
    "* In Teams of Two\n",
    "* Inform **INSTRUCTORS** of your chosen pair by _week 3_, lest you be assigned a partner."
   ]
  },
  {
   "cell_type": "markdown",
   "metadata": {},
   "source": [
    "### Classification Project"
   ]
  },
  {
   "cell_type": "markdown",
   "metadata": {},
   "source": [
    "**Deliverable**: Jupyter Notebook, _due week 7_.\n",
    "\n",
    "* Classification problem (e.g. logistic regression, decision tree)\n",
    "* 4 Topics are provided with datasets - but check with us if you have a dataset you wish to use for this project.\n",
    "* Individual Assignment"
   ]
  },
  {
   "cell_type": "markdown",
   "metadata": {},
   "source": [
    "### Final Project"
   ]
  },
  {
   "cell_type": "markdown",
   "metadata": {},
   "source": [
    "**Deliverable**: Presentation to class and panel who will assess you on both the techical qualities of your project, as well as your ability to communicate its results, _due week 11_.\n",
    "\n",
    "For your final project, you will create a predictive model by doing the following:\n",
    "\n",
    "1. Acquire a real-world data set \n",
    "2. Form a hypothesis about it\n",
    "3. Clean it \n",
    "4. Parse it \n",
    "5. Apply modeling techniques and data analysis principles\n",
    "6. Your final presentation should include the following: \n",
    "\n",
    "    * A clearly articulated problem statement \n",
    "    * A summary of data acquisition, cleaning, and parsing stage \n",
    "    * Qualitative and quantitative market research \n",
    "    * A clear presentation of your predictive model and the processes you took to create it (10-15 minutes)\n",
    "    * Presentation style appropriate to the audience "
   ]
  },
  {
   "cell_type": "markdown",
   "metadata": {},
   "source": [
    "![](http://blog.coverall.com/wp-content/uploads/2014/06/checklist-shutterstock_156086177.jpg)"
   ]
  },
  {
   "cell_type": "markdown",
   "metadata": {},
   "source": [
    "# Checklist"
   ]
  },
  {
   "cell_type": "markdown",
   "metadata": {},
   "source": [
    "Let's check these items off our list."
   ]
  },
  {
   "cell_type": "markdown",
   "metadata": {},
   "source": [
    "### Download the Course Files"
   ]
  },
  {
   "cell_type": "markdown",
   "metadata": {},
   "source": [
    "Let's start off with making a central place for your files"
   ]
  },
  {
   "cell_type": "markdown",
   "metadata": {},
   "source": [
    "All these commands are supposes to be run from a terminal.\n",
    "\n",
    "On OSX the default programme is called **`terminal`**:"
   ]
  },
  {
   "cell_type": "markdown",
   "metadata": {},
   "source": [
    "![](http://i.kinja-img.com/gawker-media/image/upload/qawcbzgm01l4qn3hpxss.jpg)"
   ]
  },
  {
   "cell_type": "markdown",
   "metadata": {},
   "source": [
    "on windows you can start **`cmd`**:"
   ]
  },
  {
   "cell_type": "markdown",
   "metadata": {},
   "source": [
    "![](http://winaero.com/blog/wp-content/uploads/2014/10/cmd-elevated-command-prompt-windows-10.png)"
   ]
  },
  {
   "cell_type": "markdown",
   "metadata": {},
   "source": [
    "You should be able to copy paste the following commands - don't type them yourself to avoid mistakes - on OSX, you can use your **`⌘ + V`** short-cut, on windows, right-click and select **`paste`** from the menu."
   ]
  },
  {
   "cell_type": "markdown",
   "metadata": {},
   "source": [
    "### 1. Create the DataBox directory in your user's home directory"
   ]
  },
  {
   "cell_type": "markdown",
   "metadata": {},
   "source": [
    "```bash\n",
    "# OSX\n",
    "mkdir $HOME/DataBox\n",
    "\n",
    "# Windows\n",
    "mkdir %HOMEPATH%\\DataBox\n",
    "```"
   ]
  },
  {
   "cell_type": "markdown",
   "metadata": {},
   "source": [
    "Your directory structure should now look like this, just an empty directory"
   ]
  },
  {
   "cell_type": "markdown",
   "metadata": {},
   "source": [
    "![](assets/step1.png)"
   ]
  },
  {
   "cell_type": "markdown",
   "metadata": {},
   "source": []
  },
  {
   "cell_type": "markdown",
   "metadata": {},
   "source": [
    "### 2. Download the Vagrantfile into `~/DataBox`"
   ]
  },
  {
   "cell_type": "markdown",
   "metadata": {},
   "source": [
    "Now let's get you your `Vagrantfile`"
   ]
  },
  {
   "cell_type": "markdown",
   "metadata": {},
   "source": [
    "```bash\n",
    "# OSX\n",
    "curl https://gist.githubusercontent.com/tijptjik/f592bf88d4e9f7b8b2cd/raw/0893014efec54c0d1cde4e00ecc72e6f99c0e72a/Vagrantfile > $HOME/DataBox/Vagrantfile\n",
    "\n",
    "# Windows\n",
    "# Windows doesn't have a reliable native way to download files from the terminal, so that means you're up human! \n",
    "```"
   ]
  },
  {
   "cell_type": "markdown",
   "metadata": {},
   "source": [
    "**Windows** : Open the [VagrantFile](https://gist.githubusercontent.com/tijptjik/f592bf88d4e9f7b8b2cd/raw/0893014efec54c0d1cde4e00ecc72e6f99c0e72a/), right-click, save-as Vagrantfile in the DataBox folder you created earlier which should be in your home folder."
   ]
  },
  {
   "cell_type": "markdown",
   "metadata": {},
   "source": [
    "Your directory structure should now look like this, just the `Vagrantfile` in it"
   ]
  },
  {
   "cell_type": "markdown",
   "metadata": {},
   "source": [
    "![](assets/step2.png)"
   ]
  },
  {
   "cell_type": "markdown",
   "metadata": {},
   "source": [
    "### 3. Download the course files into `~/DataBox`"
   ]
  },
  {
   "cell_type": "markdown",
   "metadata": {},
   "source": [
    "#### Online Notebooks"
   ]
  },
  {
   "cell_type": "markdown",
   "metadata": {},
   "source": [
    "The class materials are available as 'read-only' notebooks, at \n",
    "\n",
    "**[ga-students.github.io/DS_HK_7/](http://ga-students.github.io/DS_HK_7/)**\n",
    "\n",
    "However, in order to run python interactively, or to add your own notes to the materials, you'll need to download and serve the notebooks locally - that means, from your own laptop instead of hosted as an online website.\n",
    "\n",
    "Files are posted on [Github](https://github.com/ga-students/DS_HK_7), you can either\n",
    "\n",
    "* Use `git` if you are already familiar with it\n",
    "* Click the [Download Zip Button](https://github.com/ga-students/DS_HK_7/archive/gh-pages.zip)\n",
    "\n",
    "Once you have the files locally, put the directory (**`DS_HK_7`**) into `~/DataBox`"
   ]
  },
  {
   "cell_type": "markdown",
   "metadata": {},
   "source": [
    "### Setting up the DataBox VM"
   ]
  },
  {
   "cell_type": "markdown",
   "metadata": {},
   "source": [
    "#### Install VirtualBox"
   ]
  },
  {
   "cell_type": "markdown",
   "metadata": {},
   "source": [
    "Go to the [Virtualbox download](https://www.virtualbox.org/wiki/Downloads) page and download the appropriate binary. Open the binary and follow the installations instructions."
   ]
  },
  {
   "cell_type": "markdown",
   "metadata": {},
   "source": [
    "#### Install Vagrant"
   ]
  },
  {
   "cell_type": "markdown",
   "metadata": {},
   "source": [
    "Similarly to Step 1, go the [Vagrant download](http://www.vagrantup.com/downloads.html) page and download the appropriate binary. Open the binary and follow the installations instructions."
   ]
  },
  {
   "cell_type": "markdown",
   "metadata": {},
   "source": [
    "#### Initialise Databox"
   ]
  },
  {
   "cell_type": "markdown",
   "metadata": {},
   "source": [
    "Follow Mart :)"
   ]
  },
  {
   "cell_type": "markdown",
   "metadata": {},
   "source": [
    "#### Launching the Jupyter Notebook Server"
   ]
  },
  {
   "cell_type": "markdown",
   "metadata": {},
   "source": [
    "#### Linking Up Files & Directories"
   ]
  },
  {
   "cell_type": "markdown",
   "metadata": {},
   "source": [
    "Now that you have your Jupyter Server running, create a `new` Jupyter Notebook. From within that notebook run the following commands, exactly"
   ]
  },
  {
   "cell_type": "markdown",
   "metadata": {},
   "source": [
    "##### linking your host machine to your guest "
   ]
  },
  {
   "cell_type": "markdown",
   "metadata": {},
   "source": [
    "```bash\n",
    "ln -s /vagrant/ds /home/vagrant/ds/\n",
    "```"
   ]
  },
  {
   "cell_type": "markdown",
   "metadata": {},
   "source": [
    "Provided you've downloaded your class files into `$HOME/DataScience/ds/DS_HK_6`, run the following."
   ]
  },
  {
   "cell_type": "markdown",
   "metadata": {},
   "source": [
    "```bash\n",
    "ln -s /home/vagrant/ds/DS_HK_6/notebooks/ /home/vagrant/notebooks/\n",
    "ln -s /home/vagrant/ds/DS_HK_6/data/ /home/vagrant/data/\n",
    "```"
   ]
  },
  {
   "cell_type": "markdown",
   "metadata": {},
   "source": [
    "### All Systems Go?"
   ]
  },
  {
   "cell_type": "markdown",
   "metadata": {},
   "source": [
    "Confirm sym-link between `/vagrant/` and `/home/vagrant/ds/`"
   ]
  },
  {
   "cell_type": "markdown",
   "metadata": {},
   "source": [
    "### Give a Gist "
   ]
  },
  {
   "cell_type": "markdown",
   "metadata": {},
   "source": [
    "Send us your homework as a `gist` through [gist.github.com](https://gist.github.com/)"
   ]
  },
  {
   "cell_type": "markdown",
   "metadata": {},
   "source": [
    "## Styles"
   ]
  },
  {
   "cell_type": "code",
   "execution_count": 48,
   "metadata": {
    "collapsed": false
   },
   "outputs": [
    {
     "data": {
      "text/html": [
       "\n",
       "<link rel=\"stylesheet\" href=\"theme/custom.css\">"
      ],
      "text/plain": [
       "<IPython.core.display.HTML object>"
      ]
     },
     "metadata": {},
     "output_type": "display_data"
    }
   ],
   "source": [
    "%%html\n",
    "\n",
    "<link rel=\"stylesheet\" href=\"theme/custom.css\">"
   ]
  }
 ],
 "metadata": {
  "kernelspec": {
   "display_name": "Python 2",
   "language": "python",
   "name": "python2"
  },
  "language_info": {
   "codemirror_mode": {
    "name": "ipython",
    "version": 2
   },
   "file_extension": ".py",
   "mimetype": "text/x-python",
   "name": "python",
   "nbconvert_exporter": "python",
   "pygments_lexer": "ipython2",
   "version": "2.7.10"
  }
 },
 "nbformat": 4,
 "nbformat_minor": 0
}
