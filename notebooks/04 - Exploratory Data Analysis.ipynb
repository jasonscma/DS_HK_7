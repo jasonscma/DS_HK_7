{
 "cells": [
  {
   "cell_type": "markdown",
   "metadata": {},
   "source": [
    "![](https://www.cranfield.ac.uk/~/media/Images/mastheads/masthead-bix-mh344x810.ashx?h=344&la=en&mw=810&w=810&hash=4AD63583A5EA5BF7E5E561A1C62A8F7879F36571)"
   ]
  },
  {
   "cell_type": "markdown",
   "metadata": {},
   "source": [
    "# Exploratory Data Analysis"
   ]
  },
  {
   "cell_type": "markdown",
   "metadata": {},
   "source": [
    "> Doing statistics is like doing crosswords except that one cannot know for sure whether one has found the solution.\n",
    "\n",
    "<footer>~  John W. Tukey</footer>"
   ]
  },
  {
   "cell_type": "markdown",
   "metadata": {},
   "source": [
    "![break](assets/agenda.png)"
   ]
  },
  {
   "cell_type": "markdown",
   "metadata": {},
   "source": [
    "### Agenda\n",
    "\n",
    "* Deal with Missing Data\n",
    "* Explore Data by Visualisations"
   ]
  },
  {
   "cell_type": "markdown",
   "metadata": {},
   "source": [
    "![break](assets/theory.png)"
   ]
  },
  {
   "cell_type": "markdown",
   "metadata": {},
   "source": [
    "### Motivating Example... Catching Cheaters"
   ]
  },
  {
   "cell_type": "markdown",
   "metadata": {},
   "source": [
    "![](assets/cplot.Rout-0.png)"
   ]
  },
  {
   "cell_type": "markdown",
   "metadata": {},
   "source": [
    "[Source](http://jd-mathbio.blogspot.ca/2015/02/finding-cheaters-using-multiple-choice.html?utm_source=marketo&utm_medium=email&utm_campaign=DA-NL-202&mkt_tok=3RkMMJWWfF9wsRokvq3MZKXonjHpfsX%2B7%2BooW6Gg38431UFwdcjKPmjr1YEETcB0aPyQAgobGp5I5FEOS7PYS6V6t6EOUg%3D%3D)"
   ]
  },
  {
   "cell_type": "markdown",
   "metadata": {},
   "source": [
    "## The Goals of Exploratory Data Analysis"
   ]
  },
  {
   "cell_type": "markdown",
   "metadata": {},
   "source": [
    "1. Summarize the main characteristics of datasets with Summary Statistics (Initial Data Analysis)\n",
    "1. Visually inspect the structure and nature of the data\n",
    "1. Find what the data can tell us beyond the formal modeling or hypothesis testing task."
   ]
  },
  {
   "cell_type": "markdown",
   "metadata": {},
   "source": [
    "#### Example : Measurement Precision"
   ]
  },
  {
   "cell_type": "markdown",
   "metadata": {},
   "source": [
    "![](assets/rounding1.png)"
   ]
  },
  {
   "cell_type": "markdown",
   "metadata": {},
   "source": [
    "![](assets/rounding2.png)"
   ]
  },
  {
   "cell_type": "markdown",
   "metadata": {},
   "source": [
    "![](assets/rounding3.png)"
   ]
  },
  {
   "cell_type": "markdown",
   "metadata": {},
   "source": [
    "### Let the visuals speak to you"
   ]
  },
  {
   "cell_type": "markdown",
   "metadata": {},
   "source": [
    "Always explore your data visually. Whatever specific hypothesis you have when you go out to collect data is likely to be worse than any of the hypotheses you’ll form after looking at just a few simple visualizations of that data."
   ]
  },
  {
   "cell_type": "markdown",
   "metadata": {},
   "source": [
    "#### Load `ggplot` and plot graphs inline"
   ]
  },
  {
   "cell_type": "code",
   "execution_count": null,
   "metadata": {
    "collapsed": false
   },
   "outputs": [],
   "source": [
    "%%sh\n",
    "pip install ggplot"
   ]
  },
  {
   "cell_type": "code",
   "execution_count": null,
   "metadata": {
    "collapsed": false
   },
   "outputs": [],
   "source": [
    "from ggplot import *\n",
    "import pandas as pd\n",
    "import warnings\n",
    "\n",
    "warnings.filterwarnings(\"ignore\",category=DeprecationWarning)\n",
    "\n",
    "%matplotlib inline"
   ]
  },
  {
   "cell_type": "markdown",
   "metadata": {},
   "source": [
    "### How are zipcodes distributed in the US?"
   ]
  },
  {
   "cell_type": "code",
   "execution_count": null,
   "metadata": {
    "collapsed": false,
    "scrolled": true
   },
   "outputs": [],
   "source": [
    "zipcodes = pd.read_csv(\"../data/zipcodes.csv\")\n",
    "zipcodes"
   ]
  },
  {
   "cell_type": "code",
   "execution_count": null,
   "metadata": {
    "collapsed": false
   },
   "outputs": [],
   "source": [
    "ggplot(zipcodes, aes(x = 'zip', y = 'latitude')) + \\\n",
    "    geom_point() + \\\n",
    "    ggtitle(\"(Latitude, Zipcode) Scatterplot\")"
   ]
  },
  {
   "cell_type": "code",
   "execution_count": null,
   "metadata": {
    "collapsed": false
   },
   "outputs": [],
   "source": [
    "ggplot(zipcodes, aes(x = 'zip', y = 'longitude')) + \\\n",
    "    geom_point() + \\\n",
    "    ggtitle(\"(Longitude, Zipcode) Scatterplot\")"
   ]
  },
  {
   "cell_type": "code",
   "execution_count": null,
   "metadata": {
    "collapsed": false
   },
   "outputs": [],
   "source": [
    "ggplot(zipcodes, aes(x = 'longitude', y = 'latitude', color = 'zip')) + \\\n",
    "    geom_point() + \\\n",
    "    ggtitle(\"(Longitude, Latitude) Heatmap\")"
   ]
  },
  {
   "cell_type": "code",
   "execution_count": null,
   "metadata": {
    "collapsed": false
   },
   "outputs": [],
   "source": [
    "ggplot(zipcodes[zipcodes['longitude'] < 0], aes(x = 'longitude', y = 'latitude', color = 'zip')) + \\\n",
    "    geom_point() + \\\n",
    "    ggtitle(\"(Longitude, Latitude) Heatmap\")"
   ]
  },
  {
   "cell_type": "markdown",
   "metadata": {},
   "source": [
    "### Objectives"
   ]
  },
  {
   "cell_type": "markdown",
   "metadata": {},
   "source": [
    "* **Quality of measurements**\n",
    "* **Quality of data**\n",
    "* **Initial transformations**\n",
    "* **Univariate statistics** (single variable)\n",
    "* **Bivariate associations** (correlations)\n",
    "* **Multivarite patterns** (analysis)"
   ]
  },
  {
   "cell_type": "markdown",
   "metadata": {},
   "source": [
    "### Missing Data"
   ]
  },
  {
   "cell_type": "markdown",
   "metadata": {},
   "source": [
    "In this section, we will discuss missing (also referred to as **NA**) values in pandas."
   ]
  },
  {
   "cell_type": "markdown",
   "metadata": {},
   "source": [
    "#### When / why does data become missing?"
   ]
  },
  {
   "cell_type": "markdown",
   "metadata": {},
   "source": [
    "Some might quibble over our usage of missing. By “missing” we simply mean null or “not present for whatever reason”. Many data sets simply arrive with missing data, either because it exists and was not collected or it never existed. For example, in a collection of financial time series, some of the time series might start on different dates. Thus, values prior to the start date would generally be marked as missing."
   ]
  },
  {
   "cell_type": "markdown",
   "metadata": {},
   "source": [
    "As data comes in many shapes and forms, pandas aims to be flexible with regard to handling missing data. While `NaN` is the default missing value marker for reasons of computational speed and convenience, we need to be able to easily detect this value with data of different types: floating point, integer, boolean, and general object. In many cases, however, the Python `None` will arise and we wish to also consider that “missing” or “null”.\n",
    "\n",
    "* NaN and None (in object arrays) are considered missing by the isnull and notnull functions. inf and -inf are no longer considered missing by default.\n",
    "* To make detecting missing values easier (and across different array dtypes), pandas provides the `isnull()` and `notnull()` functions, which are also methods on `Series` objects:"
   ]
  },
  {
   "cell_type": "code",
   "execution_count": null,
   "metadata": {
    "collapsed": false
   },
   "outputs": [],
   "source": [
    "import pandas as pd\n",
    "import numpy as np\n",
    "from random import sample\n",
    "\n",
    "data = range(10)\n",
    "\n",
    "rows = sample(data, 6)\n",
    "rows = [2, 3, 6, 8, 5, 7]\n",
    "\n",
    "df = pd.DataFrame(data, columns=['data'])\n",
    "\n",
    "df['fulldata'] = data\n",
    "\n",
    "df.data.ix[rows[:3]] = None\n",
    "df.data.ix[rows[3:]] = np.nan"
   ]
  },
  {
   "cell_type": "code",
   "execution_count": null,
   "metadata": {
    "collapsed": false
   },
   "outputs": [],
   "source": [
    "df"
   ]
  },
  {
   "cell_type": "code",
   "execution_count": null,
   "metadata": {
    "collapsed": false
   },
   "outputs": [],
   "source": [
    "pd.isnull(df.data)\n",
    "# same as\n",
    "df.data.isnull()"
   ]
  },
  {
   "cell_type": "code",
   "execution_count": null,
   "metadata": {
    "collapsed": false
   },
   "outputs": [],
   "source": [
    "pd.notnull(df.data)\n",
    "# same as\n",
    "df.data.notnull()"
   ]
  },
  {
   "cell_type": "markdown",
   "metadata": {},
   "source": [
    "#### Calculations with missing data"
   ]
  },
  {
   "cell_type": "markdown",
   "metadata": {},
   "source": [
    "The descriptive statistics and computational methods in pandas are all written to account for missing data\n",
    "\n",
    "* When summing data, `NA` (missing) values will be treated as zero\n",
    "* If the data are all `NA`, the result will be `NA`\n",
    "* Methods like `cumsum` and `cumprod` ignore `NA` values, but preserve them in the resulting arrays"
   ]
  },
  {
   "cell_type": "code",
   "execution_count": null,
   "metadata": {
    "collapsed": false
   },
   "outputs": [],
   "source": [
    "df"
   ]
  },
  {
   "cell_type": "code",
   "execution_count": null,
   "metadata": {
    "collapsed": false
   },
   "outputs": [],
   "source": [
    "df['data'].sum()"
   ]
  },
  {
   "cell_type": "code",
   "execution_count": null,
   "metadata": {
    "collapsed": false
   },
   "outputs": [],
   "source": [
    "df.mean(0)"
   ]
  },
  {
   "cell_type": "code",
   "execution_count": null,
   "metadata": {
    "collapsed": false
   },
   "outputs": [],
   "source": [
    "df.cumsum()"
   ]
  },
  {
   "cell_type": "markdown",
   "metadata": {},
   "source": [
    "### Cleaning / filling missing data"
   ]
  },
  {
   "cell_type": "markdown",
   "metadata": {},
   "source": [
    "pandas objects are equipped with various data manipulation methods for dealing with missing data"
   ]
  },
  {
   "cell_type": "markdown",
   "metadata": {},
   "source": [
    "#### Filling missing values: `fillna()`"
   ]
  },
  {
   "cell_type": "markdown",
   "metadata": {},
   "source": [
    "The `fillna` function can “fill in” NA values with non-null data in a couple of ways, which we illustrate:"
   ]
  },
  {
   "cell_type": "markdown",
   "metadata": {},
   "source": [
    "##### Replace NA with a scalar value"
   ]
  },
  {
   "cell_type": "code",
   "execution_count": null,
   "metadata": {
    "collapsed": false
   },
   "outputs": [],
   "source": [
    "df"
   ]
  },
  {
   "cell_type": "code",
   "execution_count": null,
   "metadata": {
    "collapsed": false
   },
   "outputs": [],
   "source": [
    "df.fillna(0)"
   ]
  },
  {
   "cell_type": "code",
   "execution_count": null,
   "metadata": {
    "collapsed": false
   },
   "outputs": [],
   "source": [
    "df['data'].fillna('missing')"
   ]
  },
  {
   "cell_type": "markdown",
   "metadata": {},
   "source": [
    "#### Fill gaps forward or backward"
   ]
  },
  {
   "cell_type": "markdown",
   "metadata": {},
   "source": [
    "We can propagate non-null values forward or backward:"
   ]
  },
  {
   "cell_type": "code",
   "execution_count": null,
   "metadata": {
    "collapsed": false
   },
   "outputs": [],
   "source": [
    "df.fillna(method='pad')"
   ]
  },
  {
   "cell_type": "markdown",
   "metadata": {},
   "source": [
    "#### Limit the amount of filling"
   ]
  },
  {
   "cell_type": "markdown",
   "metadata": {},
   "source": [
    "If we only want consecutive gaps filled up to a certain number of data points, we can use the limit keyword:"
   ]
  },
  {
   "cell_type": "code",
   "execution_count": null,
   "metadata": {
    "collapsed": false
   },
   "outputs": [],
   "source": [
    "df.fillna(method='pad', limit=1)"
   ]
  },
  {
   "cell_type": "markdown",
   "metadata": {},
   "source": [
    "These are the available filling methods:"
   ]
  },
  {
   "cell_type": "markdown",
   "metadata": {},
   "source": [
    "| Method | Action |\n",
    "|--------|--------|\n",
    "| pad / ffill\tFill | values forward |\n",
    "| bfill / backfill | Fill values backward |"
   ]
  },
  {
   "cell_type": "markdown",
   "metadata": {},
   "source": [
    "With time series data, using pad/ffill is extremely common so that the “last known value” is available at every time point.\n",
    "\n",
    "The ffill() function is equivalent to fillna(method='ffill') and bfill() is equivalent to fillna(method='bfill')"
   ]
  },
  {
   "cell_type": "markdown",
   "metadata": {},
   "source": [
    "You can also fillna using a `dict` or `Series` that is alignable. The labels of the `dict` or `index` of the `Series` must match the columns of the frame you wish to fill. The use case of this is to fill a DataFrame with the mean of that column."
   ]
  },
  {
   "cell_type": "code",
   "execution_count": null,
   "metadata": {
    "collapsed": false
   },
   "outputs": [],
   "source": [
    "df.fillna(df.mean())\n",
    "df.data"
   ]
  },
  {
   "cell_type": "markdown",
   "metadata": {},
   "source": [
    "### Dropping axis labels with missing data: dropna"
   ]
  },
  {
   "cell_type": "markdown",
   "metadata": {},
   "source": [
    "You may wish to simply exclude labels from a data set which refer to missing data. To do this, use the dropna method:"
   ]
  },
  {
   "cell_type": "code",
   "execution_count": null,
   "metadata": {
    "collapsed": false
   },
   "outputs": [],
   "source": [
    "df"
   ]
  },
  {
   "cell_type": "code",
   "execution_count": null,
   "metadata": {
    "collapsed": false
   },
   "outputs": [],
   "source": [
    "df.dropna()"
   ]
  },
  {
   "cell_type": "code",
   "execution_count": null,
   "metadata": {
    "collapsed": false
   },
   "outputs": [],
   "source": [
    "df.dropna(axis=1)"
   ]
  },
  {
   "cell_type": "markdown",
   "metadata": {},
   "source": [
    "For a full overview of the API, see the [documentation](http://pandas.pydata.org/pandas-docs/dev/api.html#api-dataframe-missing)"
   ]
  },
  {
   "cell_type": "markdown",
   "metadata": {},
   "source": [
    "### Interpolation"
   ]
  },
  {
   "cell_type": "markdown",
   "metadata": {},
   "source": [
    "Both Series and Dataframe objects have an interpolate method that, by default, performs linear interpolation at missing datapoints."
   ]
  },
  {
   "cell_type": "markdown",
   "metadata": {},
   "source": [
    "This is where datatypes become important again. Notice the `dtype` of the 'data' column."
   ]
  },
  {
   "cell_type": "code",
   "execution_count": null,
   "metadata": {
    "collapsed": false
   },
   "outputs": [],
   "source": [
    "df.data"
   ]
  },
  {
   "cell_type": "markdown",
   "metadata": {},
   "source": [
    "First we need to get rid of the 'None' values, as this makes it into the loosest 'object' datatype. Using NaN we can use the float dataetime.."
   ]
  },
  {
   "cell_type": "code",
   "execution_count": null,
   "metadata": {
    "collapsed": false
   },
   "outputs": [],
   "source": [
    "df.isnull()"
   ]
  },
  {
   "cell_type": "code",
   "execution_count": null,
   "metadata": {
    "collapsed": false
   },
   "outputs": [],
   "source": [
    "df[df.isnull()] = np.nan\n",
    "df"
   ]
  },
  {
   "cell_type": "markdown",
   "metadata": {},
   "source": [
    "use `astype` to coerce a column into a specific datatype."
   ]
  },
  {
   "cell_type": "code",
   "execution_count": null,
   "metadata": {
    "collapsed": false
   },
   "outputs": [],
   "source": [
    "df.data.astype('float')"
   ]
  },
  {
   "cell_type": "code",
   "execution_count": null,
   "metadata": {
    "collapsed": false
   },
   "outputs": [],
   "source": [
    "df.data = df.data.astype(np.float)"
   ]
  },
  {
   "cell_type": "code",
   "execution_count": null,
   "metadata": {
    "collapsed": false
   },
   "outputs": [],
   "source": [
    "df.data"
   ]
  },
  {
   "cell_type": "code",
   "execution_count": null,
   "metadata": {
    "collapsed": false
   },
   "outputs": [],
   "source": [
    "df.interpolate()"
   ]
  },
  {
   "cell_type": "markdown",
   "metadata": {},
   "source": [
    "For a floating-point index, use method='values'"
   ]
  },
  {
   "cell_type": "code",
   "execution_count": null,
   "metadata": {
    "collapsed": false
   },
   "outputs": [],
   "source": [
    "dfxx = df.ix[[0,2,5,9]]"
   ]
  },
  {
   "cell_type": "code",
   "execution_count": null,
   "metadata": {
    "collapsed": false
   },
   "outputs": [],
   "source": [
    "dfxx"
   ]
  },
  {
   "cell_type": "code",
   "execution_count": null,
   "metadata": {
    "collapsed": false
   },
   "outputs": [],
   "source": [
    "dfxx.interpolate()"
   ]
  },
  {
   "cell_type": "code",
   "execution_count": null,
   "metadata": {
    "collapsed": false
   },
   "outputs": [],
   "source": [
    "dfxx.interpolate(method='values')"
   ]
  },
  {
   "cell_type": "markdown",
   "metadata": {},
   "source": [
    "As a practical review of what's discussed here see this [summary](http://manishamde.github.io/blog/2013/03/07/pandas-and-python-top-10/#missing)"
   ]
  },
  {
   "cell_type": "markdown",
   "metadata": {},
   "source": [
    "### Tips"
   ]
  },
  {
   "cell_type": "markdown",
   "metadata": {},
   "source": [
    "Food servers’ tips in restaurants may be influenced by many factors, including the nature of the restaurant, size of the party, and table locations in the restaurant. Restaurant managers need to know which factors matter when they assign tables to food servers. For the sake of staff morale, they usually want to avoid either the substance or the appearance of unfair treatment of the servers, for whom tips (at least in restaurants in the United States) are a major component of pay."
   ]
  },
  {
   "cell_type": "markdown",
   "metadata": {},
   "source": [
    "In one restaurant, a food server recorded the following data on all customers they served during an interval of two and a half months in early 1990. The restaurant, located in a suburban shopping mall, was part of a national chain and served a varied menu. In observance of local law the restaurant offered seating in a non-smoking section to patrons who requested it. Each record includes a day and time, and taken together, they show the server’s work schedule."
   ]
  },
  {
   "cell_type": "markdown",
   "metadata": {},
   "source": [
    "    Source: Bryant, P. G. and Smith, M. A. (1995), Practical Data Analysis:\n",
    "    Case Studies in Business Statistics, Richard D. Irwin Publishing, Homewood, IL."
   ]
  },
  {
   "cell_type": "markdown",
   "metadata": {},
   "source": [
    "**What are the factors that affect tipping behavior?**"
   ]
  },
  {
   "cell_type": "markdown",
   "metadata": {},
   "source": [
    "#### Load the Dataset"
   ]
  },
  {
   "cell_type": "code",
   "execution_count": null,
   "metadata": {
    "collapsed": false
   },
   "outputs": [],
   "source": [
    "from ggplot import *\n",
    "\n",
    "tips = pd.read_csv('../data/tips.csv')"
   ]
  },
  {
   "cell_type": "markdown",
   "metadata": {},
   "source": [
    "#### Inspect the variables"
   ]
  },
  {
   "cell_type": "code",
   "execution_count": null,
   "metadata": {
    "collapsed": false
   },
   "outputs": [],
   "source": [
    "tips.describe()"
   ]
  },
  {
   "cell_type": "code",
   "execution_count": null,
   "metadata": {
    "collapsed": false
   },
   "outputs": [],
   "source": [
    "# info() is more informative than 'describe()' as\n",
    "# it gives you the datatypes length of dataset\n",
    "\n",
    "tips.info()"
   ]
  },
  {
   "cell_type": "code",
   "execution_count": null,
   "metadata": {
    "collapsed": false,
    "scrolled": false
   },
   "outputs": [],
   "source": [
    "# tips['smoker'].value_counts()\n",
    "# tips[['smoker']].value_counts()\n",
    "\n",
    "tips.index\n",
    "# tips.ix[2:5, :'day']\n",
    "tips.iloc[:,:]"
   ]
  },
  {
   "cell_type": "code",
   "execution_count": null,
   "metadata": {
    "collapsed": false
   },
   "outputs": [],
   "source": [
    "# Look at a random sample of the rows\n",
    "tips.ix[sample(tips.index,10)]"
   ]
  },
  {
   "cell_type": "code",
   "execution_count": null,
   "metadata": {
    "collapsed": false
   },
   "outputs": [],
   "source": [
    "# Inspect head and tail of the dataset"
   ]
  },
  {
   "cell_type": "code",
   "execution_count": null,
   "metadata": {
    "collapsed": false
   },
   "outputs": [],
   "source": [
    "tips.head()"
   ]
  },
  {
   "cell_type": "code",
   "execution_count": null,
   "metadata": {
    "collapsed": false
   },
   "outputs": [],
   "source": [
    "tips.tail()"
   ]
  },
  {
   "cell_type": "markdown",
   "metadata": {},
   "source": [
    "We look first at the variable of greatest interest to the waiter: tip. A common graph for looking at a single variable is the histogram, where data values are binned and the count is represented by a rectangular bar."
   ]
  },
  {
   "cell_type": "markdown",
   "metadata": {},
   "source": [
    "### Tip\n",
    "\n",
    "Start your exploration of a single parameter - usually you'd pick the more important one for your research question."
   ]
  },
  {
   "cell_type": "code",
   "execution_count": null,
   "metadata": {
    "collapsed": false
   },
   "outputs": [],
   "source": [
    "ggplot(tips, aes(x='tip')) + geom_histogram(binwidth=1)"
   ]
  },
  {
   "cell_type": "code",
   "execution_count": null,
   "metadata": {
    "collapsed": false
   },
   "outputs": [],
   "source": [
    "# Draw with black outline, yellow fill\n",
    "ggplot(tips, aes(x='tip')) + geom_histogram(binwidth=1, colour=\"black\", fill=\"yellow\")"
   ]
  },
  {
   "cell_type": "code",
   "execution_count": null,
   "metadata": {
    "collapsed": false
   },
   "outputs": [],
   "source": [
    "# Density curve\n",
    "ggplot(tips, aes(x='tip')) + geom_density()"
   ]
  },
  {
   "cell_type": "code",
   "execution_count": null,
   "metadata": {
    "collapsed": false
   },
   "outputs": [],
   "source": [
    "# Histogram overlaid with kernel density curve\n",
    "ggplot(tips, aes(x='tip')) + \\\n",
    "    geom_histogram(aes(y='..density..'),      # Histogram with density instead of count on y-axis\n",
    "                   binwidth=0.1,\n",
    "                   colour=\"black\", fill=\"yellow\")"
   ]
  },
  {
   "cell_type": "code",
   "execution_count": null,
   "metadata": {
    "collapsed": false
   },
   "outputs": [],
   "source": [
    "# Add a line for the mean:\n",
    "avg_tips = np.mean(tips.tip)\n",
    "\n",
    "ggplot(tips, aes(x='tip')) + \\\n",
    "    geom_histogram(aes(y='..density..'),      # Histogram with density instead of count on y-axis\n",
    "                   binwidth=1,\n",
    "                   colour=\"black\",\n",
    "                   fill=\"yellow\") + \\\n",
    "    geom_vline(aes(xintercept=avg_tips),\n",
    "               color=\"red\",\n",
    "               linetype=\"dashed\",\n",
    "               size=2)"
   ]
  },
  {
   "cell_type": "markdown",
   "metadata": {},
   "source": [
    "The distribution appears to be unimodal; that is, it has one peak, the bar representing the tips greater than \\$1.50 and less than or equal \\$2.50. There are\n",
    "very few tips of \\$1.50 or less. The number of larger tips trails off rapidly, which suggests that this is not a very expensive restaurant.\n",
    "\n",
    "The conclusions drawn from a histogram are often influenced by the choice of bin width, which is a parameter of the _graph_ and not of the _data_.\n"
   ]
  },
  {
   "cell_type": "markdown",
   "metadata": {},
   "source": [
    "#### Tip 2\n",
    "Experiment with different bin-widths for you histograms - at low granulairty, you'll get a better idea of the overall distribution, at higher levels of granulairty you can inspect whether any 'clipping' is occuring. In other words, **a large bin width smooths out the graph and shows rough or global trends, whereas a smaller bin width highlights more local features**."
   ]
  },
  {
   "cell_type": "code",
   "execution_count": null,
   "metadata": {
    "collapsed": false
   },
   "outputs": [],
   "source": [
    "# Draw with black outline, yellow fill, binwidth at $0.10\n",
    "p01 = ggplot(tips, aes(x='tip')) + geom_histogram(binwidth=0.1, colour=\"black\", fill=\"yellow\")\n",
    "\n",
    "# Draw with black outline, yellow fill, binwidth at $0.50\n",
    "p05 = ggplot(tips, aes(x='tip')) + geom_histogram(binwidth=0.5, colour=\"black\", fill=\"yellow\")\n",
    "\n",
    "# Draw with black outline, yellow fill, binwidth at $1\n",
    "p1 = ggplot(tips, aes(x='tip')) + geom_histogram(binwidth=1, colour=\"black\", fill=\"yellow\")\n",
    "\n",
    "# Draw with black outline, yellow fill, binwidth at $1\n",
    "p4 = ggplot(tips, aes(x='tip')) + geom_histogram(binwidth=4, colour=\"black\", fill=\"yellow\")"
   ]
  },
  {
   "cell_type": "code",
   "execution_count": null,
   "metadata": {
    "collapsed": false
   },
   "outputs": [],
   "source": [
    "p05"
   ]
  },
  {
   "cell_type": "code",
   "execution_count": null,
   "metadata": {
    "collapsed": false
   },
   "outputs": [],
   "source": [
    "p1"
   ]
  },
  {
   "cell_type": "code",
   "execution_count": null,
   "metadata": {
    "collapsed": false
   },
   "outputs": [],
   "source": [
    "p4"
   ]
  },
  {
   "cell_type": "markdown",
   "metadata": {},
   "source": [
    "This shows a histogram with a smaller bin width, 10c. At the smaller bin width the shape is multimodal, and it is clear that there are large peaks at the full\n",
    "dollars and smaller peaks at the half dollar. This shows that the customers tended to round the tip to the nearest fifty cents or dollar.\n",
    "\n",
    "So far we have not addressed the primary question: What relationships exist between tip and the other variables? Since the tip is usually calculated\n",
    "based on the bill, it is natural to look first at a graph of tip and bill. A common graph for looking at a pair of continuous variables is the scatterplot.\n"
   ]
  },
  {
   "cell_type": "markdown",
   "metadata": {},
   "source": [
    "### Scatterplot"
   ]
  },
  {
   "cell_type": "code",
   "execution_count": null,
   "metadata": {
    "collapsed": false
   },
   "outputs": [],
   "source": [
    "# GET EQUATION AND R-SQUARED AS STRING\n",
    "# SOURCE: http://goo.gl/K4yh\n",
    "tb = tips['totbill']\n",
    "tr = tips['totbill'] * 0.18\n",
    "\n",
    "ggplot(aes(x = 'totbill', y = 'tip'), data = tips) + \\\n",
    "    geom_line(aes(tb, tr), colour = \"red\", size = 1,) + \\\n",
    "    geom_point(colour = \"black\", size = 5)"
   ]
  },
  {
   "cell_type": "markdown",
   "metadata": {},
   "source": [
    "We see that the variables are highly correlated ($r$ = 0.68), which confirms that tip is calculated from the bill. We have added a line representing a tip rate of 18\\%. Disappointingly for the waiter, there are many more points below the line than above it: There are many more “cheap tippers” than generous tippers. There are a couple of notable exceptions, especially one party who gave a \\$5.15 tip for a \\$7.25 bill, which works out to a tip rate of about 70%."
   ]
  },
  {
   "cell_type": "markdown",
   "metadata": {},
   "source": [
    "**Histogram and density plots with multiple groups**"
   ]
  },
  {
   "cell_type": "code",
   "execution_count": null,
   "metadata": {
    "collapsed": false
   },
   "outputs": [],
   "source": [
    "# Overlaid histograms\n",
    "ggplot(tips, aes(x='tip', fill='sex')) + \\\n",
    "    geom_histogram(binwidth=1, alpha=.5, position=\"identity\")"
   ]
  },
  {
   "cell_type": "code",
   "execution_count": null,
   "metadata": {
    "collapsed": false
   },
   "outputs": [],
   "source": [
    "# Density plots\n",
    "ggplot(tips, aes(x='tip', colour='sex')) + geom_density()"
   ]
  },
  {
   "cell_type": "code",
   "execution_count": null,
   "metadata": {
    "collapsed": false
   },
   "outputs": [],
   "source": [
    "# Density plots with semi-transparent fill\n",
    "ggplot(tips, aes(x='tip', fill='sex')) + geom_density(alpha=.3)"
   ]
  },
  {
   "cell_type": "markdown",
   "metadata": {},
   "source": [
    "We said earlier that an essential aspect of data visualization is capturing relationships among many variables: three, four, or even more. This dataset,\n",
    "simple as it is, illustrates the point. Let us ask, for example, how a third variable such as sex affects the relationship between tip and bill. As sex is\n",
    "categorical with two levels (i.e., binary), it is natural to divide the data into female and male payers and to generate two scatterplots of tip vs. bill. Let us go even further by including a fourth variable, smoking, which is also binary. We now divide the data into four parts and generate the four scatterplots."
   ]
  },
  {
   "cell_type": "code",
   "execution_count": null,
   "metadata": {
    "collapsed": false
   },
   "outputs": [],
   "source": [
    "!sudo /home/io/.tools/anaconda/bin/pip install rpy2"
   ]
  },
  {
   "cell_type": "code",
   "execution_count": null,
   "metadata": {
    "collapsed": false
   },
   "outputs": [],
   "source": [
    "import rpy2\n",
    "import pandas as pd\n",
    "%load_ext rpy2.ipython"
   ]
  },
  {
   "cell_type": "code",
   "execution_count": null,
   "metadata": {
    "collapsed": false
   },
   "outputs": [],
   "source": [
    "%%R\n",
    "# The R version of this code\n",
    "\n",
    "# install.packages('ggplot2')\n",
    "# install.packages('gridExtra')\n",
    "library('ggplot2')\n",
    "library('gridExtra')\n",
    "tips <- read.csv('../data//tips.csv')\n",
    "\n",
    "# GET EQUATION AND R-SQUARED AS STRING\n",
    "# SOURCE: http://goo.gl/K4yhz\n",
    "\n",
    "plt_cor <- function(subs,x,y) {\n",
    "  plot_cor <- cor(subs[[x]],subs[[y]])\n",
    "  return(round(plot_cor,2))\n",
    "}\n",
    "\n",
    "p1 <- ggplot(data = subset(tips, (sex == 'M' & smoker == 'No')), aes(x = totbill, y = tip)) +\n",
    "        geom_point(colour = \"black\", size = 5) +\n",
    "        geom_line(colour = \"red\", size = 1, aes(totbill, totbill*0.18)) +\n",
    "        geom_text(aes(45, 7 ,label = '18%', vjust = -1)) +\n",
    "        geom_text(aes(10, 9 ,label = paste('r', plt_cor(subset(tips, (sex == 'M' & smoker == 'No')),'totbill','tip')), vjust = -1)) +\n",
    "        ggtitle(\"Male Non-Smokers\") +\n",
    "        xlim(1,50) + ylim(1,10)\n",
    "\n",
    "p2 <- ggplot(data = subset(tips, (sex == 'M' & smoker == 'Yes')), aes(x = totbill, y = tip)) +\n",
    "        geom_point(colour = \"black\", size = 5) +\n",
    "        geom_line(colour = \"red\", size = 1, aes(totbill, totbill*0.18)) +\n",
    "        geom_text(aes(45, 7 ,label = '18%', vjust = -1)) +\n",
    "        geom_text(aes(10, 9 ,label = paste('r', plt_cor(subset(tips, (sex == 'M' & smoker == 'Yes')),'totbill','tip')), vjust = -1)) +\n",
    "        ggtitle(\"Male Smokers\") +\n",
    "        xlim(1,50) + ylim(1,10)\n",
    "\n",
    "\n",
    "p3 <- ggplot(data = subset(tips, (sex == 'F' & smoker == 'No')), aes(x = totbill, y = tip)) +\n",
    "        geom_point(colour = \"black\", size = 5) +\n",
    "        geom_line(colour = \"red\", size = 1, aes(totbill, totbill*0.18)) +\n",
    "        geom_text(aes(45, 7 ,label = '18%', vjust = -1)) +\n",
    "        geom_text(aes(10, 9 ,label = paste('r', plt_cor(subset(tips, (sex == 'F' & smoker == 'No')),'totbill','tip')), vjust = -1)) +\n",
    "        ggtitle(\"Female Non-Smokers\") +\n",
    "        xlim(1,50) + ylim(1,10)\n",
    "\n",
    "\n",
    "p4 <- ggplot(data = subset(tips, (sex == 'F' & smoker == 'Yes')), aes(x = totbill, y = tip)) +\n",
    "        geom_point(colour = \"black\", size = 5) +\n",
    "        geom_line(colour = \"red\", size = 1, aes(totbill, totbill*0.18)) +\n",
    "        geom_text(aes(45, 7 ,label = '18%', vjust = -1)) +\n",
    "        geom_text(aes(10, 9 ,label = paste('r', plt_cor(subset(tips, (sex == 'F' & smoker == 'Yes')),'totbill','tip')), vjust = -1)) +\n",
    "        ggtitle(\"Female Smokers\") +\n",
    "        xlim(1,50) + ylim(1,10)\n",
    "\n",
    "grid.arrange(p1, p2, p3, p4, ncol = 2, main = \"Scatterplots with different sample subsets\")"
   ]
  },
  {
   "cell_type": "markdown",
   "metadata": {},
   "source": [
    "![](assets/unnamed-chunk-52-1.png)"
   ]
  },
  {
   "cell_type": "markdown",
   "metadata": {},
   "source": [
    "Inspecting these plots reveals numerous features:"
   ]
  },
  {
   "cell_type": "markdown",
   "metadata": {},
   "source": [
    "1. For smoking parties, there is a lot less association between the size of the tip and the size of the bill; \n",
    "1. When a female non-smoker paid the bill, the tip was a very consistent percentage of the bill, with the exceptions of three dining parties;\n",
    "1. larger bills were mostly paid by men."
   ]
  },
  {
   "cell_type": "markdown",
   "metadata": {},
   "source": [
    "In the above example we gained a wealth of insight in a short time. Using nothing but graphical methods we investigated univariate, bivariate, and multivariate relationships. We found both global features and local detail. We saw that tips were rounded; then we saw the obvious correlation between the tip and the size of the bill, noting the scarcity of generous tippers; finally we discovered differences in the tipping behavior of male and female smokers and non-smokers. In contrast, an old-fashioned approach without graphics would be to fit a regression model. Without subtle regression diagnostics (which rely on graphics!), mmthis approach would miss many of the above insights."
   ]
  },
  {
   "cell_type": "markdown",
   "metadata": {},
   "source": [
    "## The Bigger picture"
   ]
  },
  {
   "cell_type": "markdown",
   "metadata": {},
   "source": [
    "![](assets/images-mod1-big-picture-eda.gif)"
   ]
  },
  {
   "cell_type": "markdown",
   "metadata": {},
   "source": [
    "To understand data analysis, and how visualization fits in, it is useful to talk about it as a process consisting of several stages:"
   ]
  },
  {
   "cell_type": "markdown",
   "metadata": {},
   "source": [
    "#### The problem statement\n",
    "\n",
    "Why do you want to analyze this data? Underlying every dataset is a question or problem statement. For the tipping data the question was provided to us from the data source: “What are the factors that affect tipping behavior?” This problem statement drives the process of any data analysis. Sometimes the problem is identified prior to a data collection. Perhaps it is realized after data becomes available because having the data available has made it possible to imagine new issues\n",
    "\n",
    "#### Data preparation\n",
    "\n",
    "During this class, I always hand you a single data matrix with each variable clearly defined. In the real world, it can take a great deal of work to construct a clean data matrix. For example, data values may be missing or misrecorded, data may be distributed across several sources, and the variable definitions and data values may be inconsistent across these sources. It is therefore not uncommon for this stage to consume most of the effort that goes into a project. And it is also not uncommon to loop back to this stage after completing the subsequent stages, to re-prepare and re-analyze the data.\n",
    "\n",
    "#### Exploratory data analysis\n",
    "\n",
    "At this stage in the analysis, we make time to “play in the sand” to allow us to find the unexpected, and come to some understanding of our data. It is characterized by direct manipulation and dynamic graphics: plots that respond in real time to an analyst’s queries and change dynamically to re-focus, link to information from other sources, and re-organize information. The analyst can work rapidly and thoroughly through the data, slipping out of dead-ends and chasing down new leads. The high level of interactivity is enabled by bare-bones graphics, which are generally not adequate for presentation purposes.\n",
    "\n",
    "#### Quantitative analysis\n",
    "\n",
    "At this stage, we use statistical modeling and statistical interference to answer our primary questions. With statistical models, we summarize complex data, decomposing it into estimates of signal and noise. With statistical inference, we try to assess whether a signal is real. Data visualization plays an important role at this stage, although that is less well known than its key role in exploration. It is helpful both in better understanding a model and in assessing its validity in relation to the data.\n",
    "\n",
    "For Tips, we have not yet answered the primary question of interest. Let’s fit a regression model using tiprate as the response and the remaining variables (except tip and bill) as the explanatory variables. When we do this, only `size` has a significant regression coefficient. "
   ]
  },
  {
   "cell_type": "markdown",
   "metadata": {},
   "source": [
    "`ggplot` support for python is still under development, so for our linear model plots, let's use a tool called seaborn."
   ]
  },
  {
   "cell_type": "code",
   "execution_count": null,
   "metadata": {
    "collapsed": false
   },
   "outputs": [],
   "source": [
    "import numpy as np\n",
    "import pandas as pd\n",
    "import seaborn as sns\n",
    "import matplotlib as mpl\n",
    "import matplotlib.pyplot as plt"
   ]
  },
  {
   "cell_type": "markdown",
   "metadata": {},
   "source": [
    "#### Visualizing multiple regression with lmplot()"
   ]
  },
  {
   "cell_type": "code",
   "execution_count": null,
   "metadata": {
    "collapsed": false
   },
   "outputs": [],
   "source": [
    "with sns.plotting_context(context='poster'):\n",
    "    sns.lmplot(\"totbill\", \"tip\", tips, size=9, aspect=2)"
   ]
  },
  {
   "cell_type": "code",
   "execution_count": null,
   "metadata": {
    "collapsed": false
   },
   "outputs": [],
   "source": [
    "tips"
   ]
  },
  {
   "cell_type": "markdown",
   "metadata": {},
   "source": [
    "This plot has two main components. The first is a scatterplot, showing the observed datapoints. The second is a regression line, showing the estimated linear model relating the two variables. Because the regression line is only an estimate, it is plotted with a 95% confidence band to give an impression of the certainty in the model. You can plot different levels of certainty"
   ]
  },
  {
   "cell_type": "markdown",
   "metadata": {},
   "source": [
    "#### Plotting with discrete predictor variables"
   ]
  },
  {
   "cell_type": "markdown",
   "metadata": {},
   "source": [
    "Sometimes you will want to plot data where the independent variable is quantitative, but discrete. Although this works fine out of the box:"
   ]
  },
  {
   "cell_type": "code",
   "execution_count": null,
   "metadata": {
    "collapsed": false
   },
   "outputs": [],
   "source": [
    "with sns.plotting_context(context='poster'):\n",
    "    sns.lmplot(\"size\", \"tip\", tips, size=6, aspect=2)"
   ]
  },
  {
   "cell_type": "markdown",
   "metadata": {},
   "source": [
    "And can be improved with a bit of jitter:"
   ]
  },
  {
   "cell_type": "code",
   "execution_count": null,
   "metadata": {
    "collapsed": false
   },
   "outputs": [],
   "source": [
    "with sns.plotting_context(context='poster'):\n",
    "    sns.lmplot(\"size\", \"tip\", tips, size=6, aspect=2, x_jitter=.15);"
   ]
  },
  {
   "cell_type": "markdown",
   "metadata": {},
   "source": [
    "It might be more informative to estimate the central tendency of each bin. This is easy to do with the x_estimator argument. Just pass any function that aggregates a vector of data into one estimate. The estimator will be bootstrapped and a confidence interval will be plotted – 95% by default, as in other cases within these functions."
   ]
  },
  {
   "cell_type": "code",
   "execution_count": null,
   "metadata": {
    "collapsed": false
   },
   "outputs": [],
   "source": [
    "with sns.plotting_context(context='poster'):\n",
    "    sns.lmplot(\"size\", \"tip\", tips, x_estimator=np.mean, size=6, aspect=2);"
   ]
  },
  {
   "cell_type": "markdown",
   "metadata": {},
   "source": [
    "### So what about the model?"
   ]
  },
  {
   "cell_type": "markdown",
   "metadata": {},
   "source": [
    "Are we satisfied with this model? We have some doubts about it."
   ]
  },
  {
   "cell_type": "code",
   "execution_count": null,
   "metadata": {
    "collapsed": false
   },
   "outputs": [],
   "source": [
    "tips['tiprate'] = tips.tip / tips.totbill"
   ]
  },
  {
   "cell_type": "code",
   "execution_count": null,
   "metadata": {
    "collapsed": false
   },
   "outputs": [],
   "source": [
    "len(tips[tips['tiprate'] < 0.18])"
   ]
  },
  {
   "cell_type": "code",
   "execution_count": null,
   "metadata": {
    "collapsed": false
   },
   "outputs": [],
   "source": [
    "from statsmodels.formula.api import ols\n",
    "\n",
    "results = ols('tip ~ totbill', tips).fit()\n",
    "results.summary()"
   ]
  },
  {
   "cell_type": "markdown",
   "metadata": {},
   "source": [
    "However, in this data it explains only 2% of the variation in tip rate. The points are spread widely around the regression line. There are very few data points for parties of size one, five, and six, which makes us question the validity of the model in these regions. The signal is very weak relative to the noise."
   ]
  },
  {
   "cell_type": "markdown",
   "metadata": {},
   "source": [
    "### Presentation"
   ]
  },
  {
   "cell_type": "markdown",
   "metadata": {},
   "source": [
    "Once an analysis has been completed, the results must be reported, either to clients, managers, or colleagues. The results probably take the form of a narrative and include quantitative summaries such as tables, forecasts, models, and graphics. Quite often, graphics form the bulk of the summaries."
   ]
  },
  {
   "cell_type": "markdown",
   "metadata": {},
   "source": [
    "Let's look at some other ways in which data can be sliced and diced in graphs"
   ]
  },
  {
   "cell_type": "markdown",
   "metadata": {},
   "source": [
    "#### Faceted linear model plots"
   ]
  },
  {
   "cell_type": "markdown",
   "metadata": {},
   "source": [
    "The lmplot() function is built on top of a FacetGrid. That means it’s easy to visualize how this relationship changes in different subsets of your dataset. You can read the extended documentation for more details on how the FacetGrid class works. The important thing is that you can supply the names of categorical variables that define subsets of the data to plot in different hues or along the row and columns of a grid of axes.\n",
    "\n",
    "Using a hue facet makes it easiest to directly compare the two subsets:"
   ]
  },
  {
   "cell_type": "code",
   "execution_count": null,
   "metadata": {
    "collapsed": false
   },
   "outputs": [],
   "source": [
    "with sns.plotting_context(context='poster'):\n",
    "    sns.lmplot(\"totbill\", \"tip\", tips, hue=\"smoker\", size=8, aspect=2);"
   ]
  },
  {
   "cell_type": "markdown",
   "metadata": {},
   "source": [
    "To make plots that will better reproduce to black-and-white (i.e. when printed), you may want to let the scatterplot marker vary along with the hue variable."
   ]
  },
  {
   "cell_type": "markdown",
   "metadata": {},
   "source": [
    "`lmplot()` accepts all arguments that you would use to initialize a FacetGrid, and it returns the grid object after plotting for further tweaking:"
   ]
  },
  {
   "cell_type": "code",
   "execution_count": null,
   "metadata": {
    "collapsed": false
   },
   "outputs": [],
   "source": [
    "with sns.plotting_context(context='poster'):\n",
    "    sns.lmplot(\"totbill\", \"tip\", tips, hue=\"smoker\", markers=[\"x\", \"o\"], size=6, aspect=2);"
   ]
  },
  {
   "cell_type": "markdown",
   "metadata": {},
   "source": [
    "Plotting in different columns of a grid also makes a plot that’s easy to understand, although direct comparisons between the subsets are more difficult as the data are separated in space. This might be better when you want the viewer to focus on the relationship within each subset independently."
   ]
  },
  {
   "cell_type": "code",
   "execution_count": null,
   "metadata": {
    "collapsed": false
   },
   "outputs": [],
   "source": [
    "with sns.plotting_context(context='poster'):\n",
    "    sns.lmplot(\"totbill\", \"tip\", tips, col=\"smoker\")"
   ]
  },
  {
   "cell_type": "markdown",
   "metadata": {},
   "source": [
    "`lmplot()` accepts all arguments that you would use to initialize a FacetGrid, and it returns the grid object after plotting for further tweaking:"
   ]
  },
  {
   "cell_type": "code",
   "execution_count": null,
   "metadata": {
    "collapsed": false
   },
   "outputs": [],
   "source": [
    "sun_tips = tips[tips['day'] == 'Sun']"
   ]
  },
  {
   "cell_type": "code",
   "execution_count": null,
   "metadata": {
    "collapsed": false
   },
   "outputs": [],
   "source": [
    "with sns.plotting_context(context='poster'):\n",
    "    g = sns.lmplot(\"totbill\", \"tip\", sun_tips, hue=\"day\", palette=\"Set2\",\n",
    "                   hue_order=[\"Sun\"], size=8, aspect=2)\n",
    "\n",
    "    g.set_axis_labels(\"Total bill (US Dollars)\", \"Tip\");\n",
    "\n",
    "    g.set(xticks=[10, 30, 50], ylim=(0, 10), yticks=[0, 2.5, 5, 7.5, 10]);"
   ]
  },
  {
   "cell_type": "markdown",
   "metadata": {},
   "source": [
    "## Colofon"
   ]
  },
  {
   "cell_type": "code",
   "execution_count": 89,
   "metadata": {
    "collapsed": false
   },
   "outputs": [
    {
     "name": "stdout",
     "output_type": "stream",
     "text": [
      "Python    2.7.10\n",
      "IPython   4.0.0\n",
      "numpy     1.10.1\n",
      "pandas    0.17.0\n",
      "sklearn   0.16.1\n",
      "seaborn   0.6.0\n"
     ]
    }
   ],
   "source": [
    "from utils import *\n",
    "print_versions()"
   ]
  },
  {
   "cell_type": "code",
   "execution_count": 90,
   "metadata": {
    "collapsed": false
   },
   "outputs": [
    {
     "data": {
      "text/html": [
       "\n",
       "<link rel=\"stylesheet\" href=\"theme/custom.css\">"
      ],
      "text/plain": [
       "<IPython.core.display.HTML object>"
      ]
     },
     "metadata": {},
     "output_type": "display_data"
    }
   ],
   "source": [
    "%%html\n",
    "\n",
    "<link rel=\"stylesheet\" href=\"theme/custom.css\">"
   ]
  }
 ],
 "metadata": {
  "kernelspec": {
   "display_name": "Python 2",
   "language": "python",
   "name": "python2"
  },
  "language_info": {
   "codemirror_mode": {
    "name": "ipython",
    "version": 2
   },
   "file_extension": ".py",
   "mimetype": "text/x-python",
   "name": "python",
   "nbconvert_exporter": "python",
   "pygments_lexer": "ipython2",
   "version": "2.7.10"
  }
 },
 "nbformat": 4,
 "nbformat_minor": 0
}
