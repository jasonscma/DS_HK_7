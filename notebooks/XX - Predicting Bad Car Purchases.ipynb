{
 "cells": [
  {
   "cell_type": "code",
   "execution_count": 1,
   "metadata": {
    "collapsed": false
   },
   "outputs": [
    {
     "data": {
      "application/javascript": [
       "function is_local(){\n",
       "  return (document.location.hostname == \"localhost\" || document.location.hostname == '127.0.0.1')\n",
       "}\n",
       "var url = is_local() ? \"http://127.0.0.1:8888/files/theme/custom.js\" : \"http://odhk.github.io/hyrule_theme/custom.js\"\n",
       "$.getScript(url)"
      ],
      "text/plain": [
       "<IPython.core.display.Javascript object>"
      ]
     },
     "metadata": {},
     "output_type": "display_data"
    }
   ],
   "source": [
    "%%javascript\n",
    "function is_local(){\n",
    "  return (document.location.hostname == \"localhost\" || document.location.hostname == '127.0.0.1')\n",
    "}\n",
    "var url = is_local() ? \"http://127.0.0.1:8888/files/theme/custom.js\" : \"http://odhk.github.io/hyrule_theme/custom.js\"\n",
    "$.getScript(url)"
   ]
  },
  {
   "cell_type": "markdown",
   "metadata": {},
   "source": [
    "# Ongoing Assignment"
   ]
  },
  {
   "cell_type": "markdown",
   "metadata": {},
   "source": [
    "## Predicting Bad Car Purchases"
   ]
  },
  {
   "cell_type": "markdown",
   "metadata": {},
   "source": [
    "The data from this assignment was originally used for a kaggle competition. The intent is to determine if a used car purchase was a good deal or not worth the amount of work that would have to go into it (a 'lemon')."
   ]
  },
  {
   "cell_type": "markdown",
   "metadata": {},
   "source": [
    "### Data"
   ]
  },
  {
   "cell_type": "markdown",
   "metadata": {},
   "source": [
    "Data is included in the repo under data/class/lemonsClassificationData. Included is the training set (which has `IsBadBuy` included), the test set ('IsBadBuy' not included), and a description text file explaining each column."
   ]
  },
  {
   "cell_type": "markdown",
   "metadata": {},
   "source": [
    "### Objective"
   ]
  },
  {
   "cell_type": "markdown",
   "metadata": {},
   "source": [
    "Clean up the data as needed and create a model for predicting if the car IsBadBuy. You may use any of the classification algorithms learned (or still to learn) to predict this column, though given the data, some algorithms will be better than others."
   ]
  },
  {
   "cell_type": "markdown",
   "metadata": {},
   "source": [
    "### Submission file"
   ]
  },
  {
   "cell_type": "markdown",
   "metadata": {},
   "source": [
    "Like the regression problem, submit both your python script and the output csv file which includes two columns:"
   ]
  },
  {
   "cell_type": "markdown",
   "metadata": {},
   "source": [
    "    RefId, IsBadBuy\n",
    "    3,0\n",
    "    4,0\n",
    "    8,1"
   ]
  },
  {
   "cell_type": "markdown",
   "metadata": {},
   "source": [
    "This submission is based on the test csv file, which has the IsBadBuy column missing. This means that unlike the regression problem, you have to validate with your training data to feel more comfortable about your submission!"
   ]
  },
  {
   "cell_type": "markdown",
   "metadata": {},
   "source": [
    "### Scoring"
   ]
  },
  {
   "cell_type": "markdown",
   "metadata": {},
   "source": [
    "We will be scoring the submission based on the AUC from precision and recall based on the two outputs."
   ]
  }
 ],
 "metadata": {
  "kernelspec": {
   "display_name": "Python 2",
   "language": "python",
   "name": "python2"
  },
  "language_info": {
   "codemirror_mode": {
    "name": "ipython",
    "version": 2
   },
   "file_extension": ".py",
   "mimetype": "text/x-python",
   "name": "python",
   "nbconvert_exporter": "python",
   "pygments_lexer": "ipython2",
   "version": "2.7.10"
  }
 },
 "nbformat": 4,
 "nbformat_minor": 0
}
